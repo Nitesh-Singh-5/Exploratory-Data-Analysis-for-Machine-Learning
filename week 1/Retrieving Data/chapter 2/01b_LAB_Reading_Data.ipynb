{
 "cells": [
  {
   "cell_type": "markdown",
   "metadata": {},
   "source": [
    "# Machine Learning Foundation\n",
    "\n",
    "## Section 1, Part b: Reading Data Lab"
   ]
  },
  {
   "cell_type": "code",
   "execution_count": 2,
   "metadata": {},
   "outputs": [],
   "source": [
    "# Imports\n",
    "import sqlite3 as sq3\n",
    "import pandas.io.sql as pds\n",
    "import pandas as pd"
   ]
  },
  {
   "cell_type": "code",
   "execution_count": 15,
   "metadata": {},
   "outputs": [
    {
     "data": {
      "text/html": [
       "<div>\n",
       "<style scoped>\n",
       "    .dataframe tbody tr th:only-of-type {\n",
       "        vertical-align: middle;\n",
       "    }\n",
       "\n",
       "    .dataframe tbody tr th {\n",
       "        vertical-align: top;\n",
       "    }\n",
       "\n",
       "    .dataframe thead th {\n",
       "        text-align: right;\n",
       "    }\n",
       "</style>\n",
       "<table border=\"1\" class=\"dataframe\">\n",
       "  <thead>\n",
       "    <tr style=\"text-align: right;\">\n",
       "      <th></th>\n",
       "      <th>index</th>\n",
       "      <th>playerID</th>\n",
       "      <th>yearID</th>\n",
       "      <th>gameNum</th>\n",
       "      <th>gameID</th>\n",
       "      <th>teamID</th>\n",
       "      <th>lgID</th>\n",
       "      <th>GP</th>\n",
       "      <th>startingPos</th>\n",
       "    </tr>\n",
       "  </thead>\n",
       "  <tbody>\n",
       "    <tr>\n",
       "      <th>0</th>\n",
       "      <td>0</td>\n",
       "      <td>gomezle01</td>\n",
       "      <td>1933</td>\n",
       "      <td>0</td>\n",
       "      <td>ALS193307060</td>\n",
       "      <td>NYA</td>\n",
       "      <td>AL</td>\n",
       "      <td>1.0</td>\n",
       "      <td>1.0</td>\n",
       "    </tr>\n",
       "    <tr>\n",
       "      <th>1</th>\n",
       "      <td>1</td>\n",
       "      <td>ferreri01</td>\n",
       "      <td>1933</td>\n",
       "      <td>0</td>\n",
       "      <td>ALS193307060</td>\n",
       "      <td>BOS</td>\n",
       "      <td>AL</td>\n",
       "      <td>1.0</td>\n",
       "      <td>2.0</td>\n",
       "    </tr>\n",
       "    <tr>\n",
       "      <th>2</th>\n",
       "      <td>2</td>\n",
       "      <td>gehrilo01</td>\n",
       "      <td>1933</td>\n",
       "      <td>0</td>\n",
       "      <td>ALS193307060</td>\n",
       "      <td>NYA</td>\n",
       "      <td>AL</td>\n",
       "      <td>1.0</td>\n",
       "      <td>3.0</td>\n",
       "    </tr>\n",
       "    <tr>\n",
       "      <th>3</th>\n",
       "      <td>3</td>\n",
       "      <td>gehrich01</td>\n",
       "      <td>1933</td>\n",
       "      <td>0</td>\n",
       "      <td>ALS193307060</td>\n",
       "      <td>DET</td>\n",
       "      <td>AL</td>\n",
       "      <td>1.0</td>\n",
       "      <td>4.0</td>\n",
       "    </tr>\n",
       "    <tr>\n",
       "      <th>4</th>\n",
       "      <td>4</td>\n",
       "      <td>dykesji01</td>\n",
       "      <td>1933</td>\n",
       "      <td>0</td>\n",
       "      <td>ALS193307060</td>\n",
       "      <td>CHA</td>\n",
       "      <td>AL</td>\n",
       "      <td>1.0</td>\n",
       "      <td>5.0</td>\n",
       "    </tr>\n",
       "  </tbody>\n",
       "</table>\n",
       "</div>"
      ],
      "text/plain": [
       "   index   playerID  yearID  gameNum        gameID teamID lgID   GP  \\\n",
       "0      0  gomezle01    1933        0  ALS193307060    NYA   AL  1.0   \n",
       "1      1  ferreri01    1933        0  ALS193307060    BOS   AL  1.0   \n",
       "2      2  gehrilo01    1933        0  ALS193307060    NYA   AL  1.0   \n",
       "3      3  gehrich01    1933        0  ALS193307060    DET   AL  1.0   \n",
       "4      4  dykesji01    1933        0  ALS193307060    CHA   AL  1.0   \n",
       "\n",
       "   startingPos  \n",
       "0          1.0  \n",
       "1          2.0  \n",
       "2          3.0  \n",
       "3          4.0  \n",
       "4          5.0  "
      ]
     },
     "execution_count": 15,
     "metadata": {},
     "output_type": "execute_result"
    }
   ],
   "source": [
    "path = 'baseball.db'\n",
    "con = sq3.Connection(path)\n",
    "query = \"\"\"\n",
    "SELECT *\n",
    "    FROM allstarfull\n",
    "    ;\n",
    "\"\"\"\n",
    "query\n",
    "allstar_observations = pd.read_sql(query, con)\n",
    "allstar_observations.head()\n"
   ]
  },
  {
   "cell_type": "code",
   "execution_count": 16,
   "metadata": {},
   "outputs": [
    {
     "name": "stdout",
     "output_type": "stream",
     "text": [
      "    type                  name     tbl_name  rootpage  \\\n",
      "0  table           allstarfull  allstarfull         2   \n",
      "1  index  ix_allstarfull_index  allstarfull         3   \n",
      "2  table               schools      schools        26   \n",
      "3  index      ix_schools_index      schools        31   \n",
      "4  table               batting      batting        99   \n",
      "5  index      ix_batting_index      batting       100   \n",
      "\n",
      "                                                 sql  \n",
      "0  CREATE TABLE \"allstarfull\" (\\n\"index\" INTEGER,...  \n",
      "1  CREATE INDEX \"ix_allstarfull_index\"ON \"allstar...  \n",
      "2  CREATE TABLE \"schools\" (\\n\"index\" INTEGER,\\n  ...  \n",
      "3  CREATE INDEX \"ix_schools_index\"ON \"schools\" (\"...  \n",
      "4  CREATE TABLE \"batting\" (\\n\"index\" INTEGER,\\n  ...  \n",
      "5  CREATE INDEX \"ix_batting_index\"ON \"batting\" (\"...  \n"
     ]
    }
   ],
   "source": [
    "all_tables = pd.read_sql('SELECT * FROM sqlite_master', con)\n",
    "print(all_tables)"
   ]
  },
  {
   "cell_type": "markdown",
   "metadata": {},
   "source": [
    "## Lab Exercise: Reading in database files\n",
    "\n",
    " - Create a variable, `path`, containing the path to the `baseball.db` contained in `resources/`\n",
    " - Create a connection, `con`, that is connected to database at `path`\n",
    " - Create a variable, `query`, containing a SQL query which reads in all data from the `allstarfull` table\n",
    " - Create a variable, `observations`, by using pandas' [read_sql](https://pandas.pydata.org/pandas-docs/stable/reference/api/pandas.read_sql.html)\n",
    "\n",
    "### Optional\n",
    " - Create a variable, `tables`, which reads in all data from the table `sqlite_master`\n",
    " - Pretend that you were interesting in creating a new baseball hall of fame. Join and analyze the tables to evaluate the top 3 all time best baseball players."
   ]
  },
  {
   "cell_type": "code",
   "execution_count": 10,
   "metadata": {},
   "outputs": [
    {
     "name": "stdout",
     "output_type": "stream",
     "text": [
      "    type                  name     tbl_name  rootpage  \\\n",
      "0  table           allstarfull  allstarfull         2   \n",
      "1  index  ix_allstarfull_index  allstarfull         3   \n",
      "2  table               schools      schools        26   \n",
      "3  index      ix_schools_index      schools        31   \n",
      "4  table               batting      batting        99   \n",
      "5  index      ix_batting_index      batting       100   \n",
      "\n",
      "                                                 sql  \n",
      "0  CREATE TABLE \"allstarfull\" (\\n\"index\" INTEGER,...  \n",
      "1  CREATE INDEX \"ix_allstarfull_index\"ON \"allstar...  \n",
      "2  CREATE TABLE \"schools\" (\\n\"index\" INTEGER,\\n  ...  \n",
      "3  CREATE INDEX \"ix_schools_index\"ON \"schools\" (\"...  \n",
      "4  CREATE TABLE \"batting\" (\\n\"index\" INTEGER,\\n  ...  \n",
      "5  CREATE INDEX \"ix_batting_index\"ON \"batting\" (\"...  \n",
      "    playerID  num_games_played  avg_starting_position\n",
      "0  musiast01              24.0               6.357143\n",
      "1   mayswi01              24.0               8.000000\n",
      "2  aaronha01              24.0               8.470588\n"
     ]
    }
   ],
   "source": [
    "### BEGIN SOLUTION\n",
    "# Create a variable, `path`, containing the path to the `baseball.db` contained in `resources/`\n",
    "path = 'baseball.db'\n",
    "\n",
    "# Create a connection, `con`, that is connected to database at `path`\n",
    "con = sq3.Connection(path)\n",
    "\n",
    "# Create a variable, `query`, containing a SQL query which reads in all data from the `` table\n",
    "\n",
    "query = \"\"\"\n",
    "SELECT *\n",
    "    FROM allstarfull\n",
    "    ;\n",
    "\"\"\"\n",
    "\n",
    "allstar_observations = pd.read_sql(query, con)\n",
    "\n",
    "# print(allstar_observations)\n",
    "\n",
    "# Create a variable, tables, which reads in all data from the table sqlite_master\n",
    "all_tables = pd.read_sql('SELECT * FROM sqlite_master', con)\n",
    "print(all_tables)\n",
    "\n",
    "# Pretend that you were interesting in creating a new baseball hall of fame. Join and analyze the tables to evaluate the top 3 all time best baseball players\n",
    "best_query = \"\"\"\n",
    "SELECT playerID, sum(GP) AS num_games_played, AVG(startingPos) AS avg_starting_position\n",
    "    FROM allstarfull\n",
    "    GROUP BY playerID\n",
    "    ORDER BY num_games_played DESC, avg_starting_position ASC\n",
    "    LIMIT 3\n",
    "\"\"\"\n",
    "best = pd.read_sql(best_query, con)\n",
    "print(best.head())\n",
    "### END SOLUTION"
   ]
  },
  {
   "cell_type": "markdown",
   "metadata": {},
   "source": [
    "---\n",
    "### Machine Learning Foundation (C) 2020 IBM Corporation"
   ]
  },
  {
   "cell_type": "code",
   "execution_count": null,
   "metadata": {},
   "outputs": [],
   "source": []
  }
 ],
 "metadata": {
  "kernelspec": {
   "display_name": "Python 3",
   "language": "python",
   "name": "python3"
  },
  "language_info": {
   "codemirror_mode": {
    "name": "ipython",
    "version": 3
   },
   "file_extension": ".py",
   "mimetype": "text/x-python",
   "name": "python",
   "nbconvert_exporter": "python",
   "pygments_lexer": "ipython3",
   "version": "3.8.3"
  }
 },
 "nbformat": 4,
 "nbformat_minor": 4
}
